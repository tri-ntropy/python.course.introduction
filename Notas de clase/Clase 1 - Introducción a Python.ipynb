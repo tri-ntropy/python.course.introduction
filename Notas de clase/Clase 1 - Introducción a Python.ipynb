{
 "cells": [
  {
   "cell_type": "markdown",
   "metadata": {},
   "source": [
    "# Introducción a Python"
   ]
  },
  {
   "cell_type": "markdown",
   "metadata": {},
   "source": [
    "Notas rápidas sobre el uso del Jupyter Notebook:\n",
    "\n",
    "* Selecciona la celda y pulsa dos veces la tecla \"D\" para borrarla\n",
    "* Selecciona la celda y pulsa una vez la tecla \"C\" para copiar la celda completa\n",
    "* Selecciona la celda y pulsa una vez la tecla \"X\" para cortar la celda completa\n",
    "* Selecciona la celda y pulsa una vez la tecla \"V\" para pegar una celda previamente copiada o cortada\n",
    "* Puedes partir una celda en dos si situas el cursor sobre la linea donde quieres hacer el corte y pulsas \"Ctrl + Shift + -\""
   ]
  },
  {
   "cell_type": "markdown",
   "metadata": {},
   "source": [
    "## Asignación de variables\n",
    "En Python, gracias al tipaje dinámico, no es necesario declarar explicitamente el tipo de una variable"
   ]
  },
  {
   "cell_type": "markdown",
   "metadata": {},
   "source": [
    "### Asignación simple"
   ]
  },
  {
   "cell_type": "code",
   "execution_count": 41,
   "metadata": {},
   "outputs": [
    {
     "data": {
      "text/plain": [
       "5"
      ]
     },
     "execution_count": 41,
     "metadata": {},
     "output_type": "execute_result"
    }
   ],
   "source": [
    "a = 5\n",
    "a"
   ]
  },
  {
   "cell_type": "markdown",
   "metadata": {},
   "source": [
    "### Asignación múltiple"
   ]
  },
  {
   "cell_type": "code",
   "execution_count": 42,
   "metadata": {},
   "outputs": [
    {
     "data": {
      "text/plain": [
       "(1+2j)"
      ]
     },
     "execution_count": 42,
     "metadata": {},
     "output_type": "execute_result"
    }
   ],
   "source": [
    "a, b, c, d, e, f = 5, 5.0, 6, \"6\", 1 + 2j, True\n",
    "e"
   ]
  },
  {
   "cell_type": "markdown",
   "metadata": {},
   "source": [
    "Nota: Si escribes una variable u operación al final de una celda, el (Jupyter) Notebook sabe que debe desplegar/imprimir en pantalla el valor de esa variable u operación. Es una característica similar a los notebooks de Wolfram Mathematica."
   ]
  },
  {
   "cell_type": "markdown",
   "metadata": {},
   "source": [
    "## Tipos de datos básicos"
   ]
  },
  {
   "cell_type": "markdown",
   "metadata": {},
   "source": [
    "### Tipo int\n",
    "Números enteros"
   ]
  },
  {
   "cell_type": "code",
   "execution_count": 43,
   "metadata": {},
   "outputs": [
    {
     "data": {
      "text/plain": [
       "int"
      ]
     },
     "execution_count": 43,
     "metadata": {},
     "output_type": "execute_result"
    }
   ],
   "source": [
    "type(a)"
   ]
  },
  {
   "cell_type": "markdown",
   "metadata": {},
   "source": [
    "### Tipo float\n",
    "Números decimales con *precisión doble* (hasta 15 decimales de presición). Para mayor precisión se debe usar la biblioteca \"decimal\" o \"numpy\""
   ]
  },
  {
   "cell_type": "code",
   "execution_count": 44,
   "metadata": {},
   "outputs": [
    {
     "data": {
      "text/plain": [
       "float"
      ]
     },
     "execution_count": 44,
     "metadata": {},
     "output_type": "execute_result"
    }
   ],
   "source": [
    "type(b)"
   ]
  },
  {
   "cell_type": "markdown",
   "metadata": {},
   "source": [
    "### Tipo string\n",
    "Cadenas de carácteres de texto"
   ]
  },
  {
   "cell_type": "code",
   "execution_count": 45,
   "metadata": {},
   "outputs": [
    {
     "data": {
      "text/plain": [
       "str"
      ]
     },
     "execution_count": 45,
     "metadata": {},
     "output_type": "execute_result"
    }
   ],
   "source": [
    "type(d)"
   ]
  },
  {
   "cell_type": "markdown",
   "metadata": {},
   "source": [
    "### Tipo complex\n",
    "Números complejos"
   ]
  },
  {
   "cell_type": "code",
   "execution_count": 46,
   "metadata": {},
   "outputs": [
    {
     "data": {
      "text/plain": [
       "complex"
      ]
     },
     "execution_count": 46,
     "metadata": {},
     "output_type": "execute_result"
    }
   ],
   "source": [
    "type(e)"
   ]
  },
  {
   "cell_type": "markdown",
   "metadata": {},
   "source": [
    "### Tipo bool\n",
    "Variables boleanas, solo pueden tomar el valor \"True\" o \"False\". Importante notar que ambos se escriben con mayúscula en Python."
   ]
  },
  {
   "cell_type": "code",
   "execution_count": 47,
   "metadata": {},
   "outputs": [
    {
     "data": {
      "text/plain": [
       "bool"
      ]
     },
     "execution_count": 47,
     "metadata": {},
     "output_type": "execute_result"
    }
   ],
   "source": [
    "type(f)"
   ]
  },
  {
   "cell_type": "markdown",
   "metadata": {},
   "source": [
    "### Comparación lógica de datos "
   ]
  },
  {
   "cell_type": "code",
   "execution_count": 48,
   "metadata": {},
   "outputs": [
    {
     "data": {
      "text/plain": [
       "True"
      ]
     },
     "execution_count": 48,
     "metadata": {},
     "output_type": "execute_result"
    }
   ],
   "source": [
    "a == b"
   ]
  },
  {
   "cell_type": "markdown",
   "metadata": {},
   "source": [
    "Aquí, aunque \"a\" es un int y \"b\" un float, la comparación de igualdad devuelve \"True\" ya que ambas variables numéricamente son iguales"
   ]
  },
  {
   "cell_type": "code",
   "execution_count": 49,
   "metadata": {},
   "outputs": [
    {
     "data": {
      "text/plain": [
       "False"
      ]
     },
     "execution_count": 49,
     "metadata": {},
     "output_type": "execute_result"
    }
   ],
   "source": [
    "type(a) == type(b)"
   ]
  },
  {
   "cell_type": "markdown",
   "metadata": {},
   "source": []
  },
  {
   "cell_type": "code",
   "execution_count": 50,
   "metadata": {},
   "outputs": [
    {
     "data": {
      "text/plain": [
       "False"
      ]
     },
     "execution_count": 50,
     "metadata": {},
     "output_type": "execute_result"
    }
   ],
   "source": [
    "a == c"
   ]
  },
  {
   "cell_type": "code",
   "execution_count": 51,
   "metadata": {},
   "outputs": [
    {
     "data": {
      "text/plain": [
       "True"
      ]
     },
     "execution_count": 51,
     "metadata": {},
     "output_type": "execute_result"
    }
   ],
   "source": [
    "type(a) == type(c)"
   ]
  },
  {
   "cell_type": "code",
   "execution_count": 52,
   "metadata": {},
   "outputs": [
    {
     "data": {
      "text/plain": [
       "str"
      ]
     },
     "execution_count": 52,
     "metadata": {},
     "output_type": "execute_result"
    }
   ],
   "source": [
    "type(d)"
   ]
  },
  {
   "cell_type": "code",
   "execution_count": 53,
   "metadata": {},
   "outputs": [
    {
     "data": {
      "text/plain": [
       "False"
      ]
     },
     "execution_count": 53,
     "metadata": {},
     "output_type": "execute_result"
    }
   ],
   "source": [
    "c == d"
   ]
  },
  {
   "cell_type": "code",
   "execution_count": 54,
   "metadata": {},
   "outputs": [
    {
     "data": {
      "text/plain": [
       "complex"
      ]
     },
     "execution_count": 54,
     "metadata": {},
     "output_type": "execute_result"
    }
   ],
   "source": [
    "type(e)"
   ]
  },
  {
   "cell_type": "code",
   "execution_count": 55,
   "metadata": {},
   "outputs": [
    {
     "data": {
      "text/plain": [
       "(6+2j)"
      ]
     },
     "execution_count": 55,
     "metadata": {},
     "output_type": "execute_result"
    }
   ],
   "source": [
    "e + a"
   ]
  },
  {
   "cell_type": "code",
   "execution_count": 56,
   "metadata": {},
   "outputs": [
    {
     "data": {
      "text/plain": [
       "(6+2j)"
      ]
     },
     "execution_count": 56,
     "metadata": {},
     "output_type": "execute_result"
    }
   ],
   "source": [
    "e + b"
   ]
  },
  {
   "cell_type": "code",
   "execution_count": 57,
   "metadata": {},
   "outputs": [
    {
     "data": {
      "text/plain": [
       "(-4+2j)"
      ]
     },
     "execution_count": 57,
     "metadata": {},
     "output_type": "execute_result"
    }
   ],
   "source": [
    "e - a "
   ]
  },
  {
   "cell_type": "code",
   "execution_count": 58,
   "metadata": {},
   "outputs": [
    {
     "data": {
      "text/plain": [
       "(-4+2j)"
      ]
     },
     "execution_count": 58,
     "metadata": {},
     "output_type": "execute_result"
    }
   ],
   "source": [
    "e - b"
   ]
  },
  {
   "cell_type": "code",
   "execution_count": 59,
   "metadata": {},
   "outputs": [
    {
     "data": {
      "text/plain": [
       "True"
      ]
     },
     "execution_count": 59,
     "metadata": {},
     "output_type": "execute_result"
    }
   ],
   "source": [
    "a.is_integer()"
   ]
  },
  {
   "cell_type": "code",
   "execution_count": 60,
   "metadata": {},
   "outputs": [],
   "source": [
    "b = 5.5"
   ]
  },
  {
   "cell_type": "code",
   "execution_count": 61,
   "metadata": {},
   "outputs": [
    {
     "data": {
      "text/plain": [
       "False"
      ]
     },
     "execution_count": 61,
     "metadata": {},
     "output_type": "execute_result"
    }
   ],
   "source": [
    "b.is_integer()"
   ]
  },
  {
   "cell_type": "code",
   "execution_count": 62,
   "metadata": {},
   "outputs": [
    {
     "data": {
      "text/plain": [
       "'Zorros hoy, Zorros siempre'"
      ]
     },
     "execution_count": 62,
     "metadata": {},
     "output_type": "execute_result"
    }
   ],
   "source": [
    "texto = \"Zorros hoy, Zorros siempre\"\n",
    "texto"
   ]
  },
  {
   "cell_type": "code",
   "execution_count": 63,
   "metadata": {},
   "outputs": [
    {
     "data": {
      "text/plain": [
       "'ZORROS HOY, ZORROS SIEMPRE'"
      ]
     },
     "execution_count": 63,
     "metadata": {},
     "output_type": "execute_result"
    }
   ],
   "source": [
    "texto.capitalize().upper()"
   ]
  },
  {
   "cell_type": "code",
   "execution_count": 64,
   "metadata": {},
   "outputs": [
    {
     "data": {
      "text/plain": [
       "5"
      ]
     },
     "execution_count": 64,
     "metadata": {},
     "output_type": "execute_result"
    }
   ],
   "source": [
    "texto.count(\"o\")"
   ]
  },
  {
   "cell_type": "code",
   "execution_count": 65,
   "metadata": {},
   "outputs": [
    {
     "data": {
      "text/plain": [
       "list"
      ]
     },
     "execution_count": 65,
     "metadata": {},
     "output_type": "execute_result"
    }
   ],
   "source": [
    "type(texto.split(\",\"))"
   ]
  },
  {
   "cell_type": "code",
   "execution_count": 66,
   "metadata": {},
   "outputs": [
    {
     "data": {
      "text/plain": [
       "['a', 5, 5.5, 5.5, 6, '6', [5], 'e', 'z', (1+2j)]"
      ]
     },
     "execution_count": 66,
     "metadata": {},
     "output_type": "execute_result"
    }
   ],
   "source": [
    "lista = [\"a\", a, b, b, c, d, [a], \"e\", \"z\", e]\n",
    "lista"
   ]
  },
  {
   "cell_type": "code",
   "execution_count": 67,
   "metadata": {},
   "outputs": [
    {
     "data": {
      "text/plain": [
       "('a', 5.5, 6)"
      ]
     },
     "execution_count": 67,
     "metadata": {},
     "output_type": "execute_result"
    }
   ],
   "source": [
    "tupla = (\"a\", b, c)\n",
    "tupla"
   ]
  },
  {
   "cell_type": "code",
   "execution_count": 68,
   "metadata": {},
   "outputs": [
    {
     "data": {
      "text/plain": [
       "5.5"
      ]
     },
     "execution_count": 68,
     "metadata": {},
     "output_type": "execute_result"
    }
   ],
   "source": [
    "lista[2]"
   ]
  },
  {
   "cell_type": "code",
   "execution_count": 69,
   "metadata": {},
   "outputs": [
    {
     "data": {
      "text/plain": [
       "6"
      ]
     },
     "execution_count": 69,
     "metadata": {},
     "output_type": "execute_result"
    }
   ],
   "source": [
    "tupla[2]"
   ]
  },
  {
   "cell_type": "code",
   "execution_count": 70,
   "metadata": {},
   "outputs": [
    {
     "data": {
      "text/plain": [
       "['a', 5, 10, 5.5, 6, '6', [5], 'e', 'z', (1+2j)]"
      ]
     },
     "execution_count": 70,
     "metadata": {},
     "output_type": "execute_result"
    }
   ],
   "source": [
    "lista[2] = 10\n",
    "lista"
   ]
  },
  {
   "cell_type": "code",
   "execution_count": 71,
   "metadata": {},
   "outputs": [
    {
     "data": {
      "text/plain": [
       "{0, 2, 3, 5, 8, 10}"
      ]
     },
     "execution_count": 71,
     "metadata": {},
     "output_type": "execute_result"
    }
   ],
   "source": [
    "conjunto = {2, 2, 2, 2, 3, 5, 10, 8, 0, 10}\n",
    "conjunto"
   ]
  },
  {
   "cell_type": "code",
   "execution_count": 72,
   "metadata": {},
   "outputs": [
    {
     "data": {
      "text/plain": [
       "{'a': 1, 'b': 2, 'c': 3, 'd': 8000}"
      ]
     },
     "execution_count": 72,
     "metadata": {},
     "output_type": "execute_result"
    }
   ],
   "source": [
    "diccionario = {\"a\" : 1, \"b\" : 2, \"c\" : 3, \"d\" : 8000}\n",
    "diccionario"
   ]
  },
  {
   "cell_type": "code",
   "execution_count": 73,
   "metadata": {},
   "outputs": [
    {
     "data": {
      "text/plain": [
       "1"
      ]
     },
     "execution_count": 73,
     "metadata": {},
     "output_type": "execute_result"
    }
   ],
   "source": [
    "diccionario[\"a\"]"
   ]
  },
  {
   "cell_type": "code",
   "execution_count": 74,
   "metadata": {},
   "outputs": [
    {
     "data": {
      "text/plain": [
       "{'a': 9, 'b': 2, 'c': 3, 'd': 8000}"
      ]
     },
     "execution_count": 74,
     "metadata": {},
     "output_type": "execute_result"
    }
   ],
   "source": [
    "diccionario[\"a\"] = 9\n",
    "diccionario"
   ]
  },
  {
   "cell_type": "code",
   "execution_count": 75,
   "metadata": {},
   "outputs": [
    {
     "data": {
      "text/plain": [
       "['a', 5, 10, 5.5, 6, '6', [5], 'e', 'z', (1+2j), 1000]"
      ]
     },
     "execution_count": 75,
     "metadata": {},
     "output_type": "execute_result"
    }
   ],
   "source": [
    "lista.append(1000)\n",
    "lista"
   ]
  },
  {
   "cell_type": "code",
   "execution_count": 76,
   "metadata": {},
   "outputs": [
    {
     "data": {
      "text/plain": [
       "('a', 5.5, 6, 6, 'b', 'c', 'c', 'c')"
      ]
     },
     "execution_count": 76,
     "metadata": {},
     "output_type": "execute_result"
    }
   ],
   "source": [
    "tupla = (\"a\", b, c, c, \"b\", \"c\", \"c\", \"c\")\n",
    "tupla"
   ]
  },
  {
   "cell_type": "code",
   "execution_count": 77,
   "metadata": {},
   "outputs": [
    {
     "data": {
      "text/plain": [
       "3"
      ]
     },
     "execution_count": 77,
     "metadata": {},
     "output_type": "execute_result"
    }
   ],
   "source": [
    "tupla.count(\"c\")"
   ]
  },
  {
   "cell_type": "code",
   "execution_count": 78,
   "metadata": {},
   "outputs": [
    {
     "data": {
      "text/plain": [
       "dict_keys"
      ]
     },
     "execution_count": 78,
     "metadata": {},
     "output_type": "execute_result"
    }
   ],
   "source": [
    "type(diccionario.keys())"
   ]
  },
  {
   "cell_type": "markdown",
   "metadata": {},
   "source": [
    "## Caida libre\n",
    "$$y = h - \\frac{1}{2} g t^2$$\n",
    "\n",
    "$$t = \\sqrt{\\frac{2 (h - y)}{g}}$$"
   ]
  },
  {
   "cell_type": "code",
   "execution_count": 79,
   "metadata": {},
   "outputs": [],
   "source": [
    "def tiempo_caida(y, h):\n",
    "    g = 9.81\n",
    "    if y < 0:\n",
    "        return \"Error\"\n",
    "    elif y > h:\n",
    "        return \"Error\"\n",
    "    else:\n",
    "        return (2 * (h - y) / g) ** 0.5"
   ]
  },
  {
   "cell_type": "code",
   "execution_count": 80,
   "metadata": {},
   "outputs": [
    {
     "name": "stdout",
     "output_type": "stream",
     "text": [
      "Altura inicial: 200m., tiempo a la altura 20m. : 6.057825328153827 s.\n",
      "Altura inicial: 200m., tiempo a la altura 30m. : 5.887148012640068 s.\n",
      "Altura inicial: 200m., tiempo a la altura 40m. : 5.711372491708258 s.\n",
      "Altura inicial: 200m., tiempo a la altura 5m. : 6.305184508161295 s.\n",
      "Altura inicial: 200m., tiempo a la altura 0m. : 6.385508568141009 s.\n",
      "Altura inicial: 300m., tiempo a la altura 20m. : 7.55543562895768 s.\n",
      "Altura inicial: 300m., tiempo a la altura 30m. : 7.419290502442469 s.\n",
      "Altura inicial: 300m., tiempo a la altura 40m. : 7.2805999461543625 s.\n",
      "Altura inicial: 300m., tiempo a la altura 5m. : 7.755173210113253 s.\n",
      "Altura inicial: 300m., tiempo a la altura 0m. : 7.820618870057751 s.\n",
      "Altura inicial: 400m., tiempo a la altura 20m. : 8.80181614101455 s.\n",
      "Altura inicial: 400m., tiempo a la altura 30m. : 8.685230647284742 s.\n",
      "Altura inicial: 400m., tiempo a la altura 40m. : 8.567058737562387 s.\n",
      "Altura inicial: 400m., tiempo a la altura 5m. : 8.973854877128304 s.\n",
      "Altura inicial: 400m., tiempo a la altura 0m. : 9.030472819714618 s.\n",
      "Altura inicial: 50m., tiempo a la altura 20m. : 2.4730968341474897 s.\n",
      "Altura inicial: 50m., tiempo a la altura 30m. : 2.019275109384609 s.\n",
      "Altura inicial: 50m., tiempo a la altura 40m. : 1.4278431229270645 s.\n",
      "Altura inicial: 50m., tiempo a la altura 5m. : 3.0289126640769135 s.\n",
      "Altura inicial: 50m., tiempo a la altura 0m. : 3.1927542840705043 s.\n"
     ]
    }
   ],
   "source": [
    "lista_h = [200, 300, 400, 50]\n",
    "lista_y = [20, 30, 40, 5, 0]\n",
    "\n",
    "resultados = dict()\n",
    "for h in lista_h:\n",
    "    for y in lista_y:\n",
    "        t = tiempo_caida(y, h)\n",
    "        print(f\"Altura inicial: {h}m., tiempo a la altura {y}m. : {t} s.\")\n",
    "        resultados[(h, y)] = t"
   ]
  },
  {
   "cell_type": "code",
   "execution_count": 81,
   "metadata": {},
   "outputs": [
    {
     "data": {
      "text/plain": [
       "{(200, 20): 6.057825328153827,\n",
       " (200, 30): 5.887148012640068,\n",
       " (200, 40): 5.711372491708258,\n",
       " (200, 5): 6.305184508161295,\n",
       " (200, 0): 6.385508568141009,\n",
       " (300, 20): 7.55543562895768,\n",
       " (300, 30): 7.419290502442469,\n",
       " (300, 40): 7.2805999461543625,\n",
       " (300, 5): 7.755173210113253,\n",
       " (300, 0): 7.820618870057751,\n",
       " (400, 20): 8.80181614101455,\n",
       " (400, 30): 8.685230647284742,\n",
       " (400, 40): 8.567058737562387,\n",
       " (400, 5): 8.973854877128304,\n",
       " (400, 0): 9.030472819714618,\n",
       " (50, 20): 2.4730968341474897,\n",
       " (50, 30): 2.019275109384609,\n",
       " (50, 40): 1.4278431229270645,\n",
       " (50, 5): 3.0289126640769135,\n",
       " (50, 0): 3.1927542840705043}"
      ]
     },
     "execution_count": 81,
     "metadata": {},
     "output_type": "execute_result"
    }
   ],
   "source": [
    "resultados"
   ]
  },
  {
   "cell_type": "markdown",
   "metadata": {},
   "source": [
    "Metodo de busqueda binaria"
   ]
  },
  {
   "cell_type": "markdown",
   "metadata": {},
   "source": []
  }
 ],
 "metadata": {
  "kernelspec": {
   "display_name": "sci",
   "language": "python",
   "name": "python3"
  },
  "language_info": {
   "codemirror_mode": {
    "name": "ipython",
    "version": 3
   },
   "file_extension": ".py",
   "mimetype": "text/x-python",
   "name": "python",
   "nbconvert_exporter": "python",
   "pygments_lexer": "ipython3",
   "version": "3.12.9"
  }
 },
 "nbformat": 4,
 "nbformat_minor": 2
}
